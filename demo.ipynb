{
 "cells": [
  {
   "cell_type": "markdown",
   "metadata": {},
   "source": [
    "# <a id='toc1_'></a>[LLM Dataset Inference Demo](#toc0_)\n",
    "\n",
    "![LLM Dataset Inference Overview](files/llm-dataset-inference-overview.png \"LLM Dataset Inference Overview\")"
   ]
  },
  {
   "cell_type": "markdown",
   "metadata": {},
   "source": [
    "**Table of contents**<a id='toc0_'></a>    \n",
    "- [LLM Dataset Inference Demo](#toc1_)    \n",
    "- [Step 0: Make Splits A and B](#toc2_)    \n",
    "- [Step 1: Aggregate Features with MIAs](#toc3_)    \n",
    "- [Step 2: Learn MIA Correlations](#toc4_)    \n",
    "  - [Step 2.1 Remove Outliers](#toc4_1_)    \n",
    "  - [Step 2.2: Learn the weights of each feature](#toc4_2_)    \n",
    "- [Step 3: Dataset Inference](#toc5_)    \n",
    "\n",
    "<!-- vscode-jupyter-toc-config\n",
    "\tnumbering=false\n",
    "\tanchor=true\n",
    "\tflat=false\n",
    "\tminLevel=1\n",
    "\tmaxLevel=6\n",
    "\t/vscode-jupyter-toc-config -->\n",
    "<!-- THIS CELL WILL BE REPLACED ON TOC UPDATE. DO NOT WRITE YOUR TEXT IN THIS CELL -->"
   ]
  },
  {
   "cell_type": "markdown",
   "metadata": {},
   "source": [
    "This notebook will show you how to conduct LLM Dataset Inference on your own data.\n",
    "\n",
    "As you can see in the figure above, the process is divided into four steps:\n",
    "\n",
    "1. Generate Features with MIAs.\n",
    "2. Learn a linear classifier that assigns the importance of each feature to classify the membership of a text.\n",
    "3. Perform Dataset Inference on your Data\n",
    "    - a. Generate MIA features\n",
    "    - b. Run the linear classifier on those MIA features\n",
    "    - c. Conduct statistical tests on the ouputs of the linear classifier to determine whether there is a significance difference between them. "
   ]
  },
  {
   "cell_type": "code",
   "execution_count": 1,
   "metadata": {},
   "outputs": [],
   "source": [
    "from utils import prepare_model\n",
    "from metrics import aggregate_metrics\n",
    "from datasets import load_dataset"
   ]
  },
  {
   "cell_type": "code",
   "execution_count": 2,
   "metadata": {},
   "outputs": [],
   "source": [
    "# model_name = \"EleutherAI/pythia-410m-deduped\"\n",
    "# model_name = \"EleutherAI/pythia-2.8b\"\n",
    "model_name = \"EleutherAI/pythia-6.9b\"\n",
    "# model_name = \"EleutherAI/pythia-12b\"\n",
    "cache_dir = \"/tmp\""
   ]
  },
  {
   "cell_type": "code",
   "execution_count": 3,
   "metadata": {},
   "outputs": [
    {
     "name": "stderr",
     "output_type": "stream",
     "text": [
      "Special tokens have been added in the vocabulary, make sure the associated word embeddings are fine-tuned or trained.\n"
     ]
    },
    {
     "data": {
      "application/vnd.jupyter.widget-view+json": {
       "model_id": "c3c524b4c3854fe18535935300c6a45a",
       "version_major": 2,
       "version_minor": 0
      },
      "text/plain": [
       "Loading checkpoint shards:   0%|          | 0/2 [00:00<?, ?it/s]"
      ]
     },
     "metadata": {},
     "output_type": "display_data"
    },
    {
     "name": "stdout",
     "output_type": "stream",
     "text": [
      "Model loaded\n"
     ]
    }
   ],
   "source": [
    "# quantization options: None, fp16, 8bit (needs accelerate)\n",
    "llm, tokenizer = prepare_model(model_name, cache_dir=cache_dir, quant=\"fp16\")"
   ]
  },
  {
   "cell_type": "markdown",
   "metadata": {},
   "source": [
    "# <a id='toc2_'></a>[Step 0: Make Splits A and B](#toc0_)\n",
    "\n",
    "Splits A from members and non-members are used to trained the NN.\n",
    "\n",
    "Splits B from members and non-members are used to perform Dataset Inference (DI)"
   ]
  },
  {
   "cell_type": "code",
   "execution_count": 4,
   "metadata": {},
   "outputs": [],
   "source": [
    "from datasets import load_dataset\n",
    "\n",
    "ds = load_dataset(\"haritzpuerto/the_pile_arxiv_50k_sample\")"
   ]
  },
  {
   "cell_type": "code",
   "execution_count": 5,
   "metadata": {},
   "outputs": [
    {
     "data": {
      "text/plain": [
       "DatasetDict({\n",
       "    train: Dataset({\n",
       "        features: ['text', 'meta'],\n",
       "        num_rows: 50000\n",
       "    })\n",
       "    validation: Dataset({\n",
       "        features: ['text', 'meta'],\n",
       "        num_rows: 2434\n",
       "    })\n",
       "    test: Dataset({\n",
       "        features: ['text', 'meta'],\n",
       "        num_rows: 2407\n",
       "    })\n",
       "})"
      ]
     },
     "execution_count": 5,
     "metadata": {},
     "output_type": "execute_result"
    }
   ],
   "source": [
    "ds"
   ]
  },
  {
   "cell_type": "code",
   "execution_count": 6,
   "metadata": {},
   "outputs": [],
   "source": [
    "A_members = ds['train'].select(range(0, 1000))\n",
    "A_nonmembers = ds['validation'].select(range(1000))\n",
    "\n",
    "B_members = ds['train'].select(range(1000, 2000))\n",
    "B_nonmembers = ds['validation'].select(range(1000, 2000))"
   ]
  },
  {
   "cell_type": "markdown",
   "metadata": {},
   "source": [
    "# <a id='toc3_'></a>[Step 1: Aggregate Features with MIAs](#toc0_)"
   ]
  },
  {
   "cell_type": "code",
   "execution_count": 7,
   "metadata": {},
   "outputs": [],
   "source": [
    "metric_list = [\"k_min_probs\", \"ppl\", \"zlib_ratio\", \"k_max_probs\"]"
   ]
  },
  {
   "cell_type": "code",
   "execution_count": 8,
   "metadata": {},
   "outputs": [],
   "source": [
    "batch_size = 2"
   ]
  },
  {
   "cell_type": "code",
   "execution_count": 9,
   "metadata": {},
   "outputs": [
    {
     "name": "stderr",
     "output_type": "stream",
     "text": [
      "100%|██████████| 500/500 [09:40<00:00,  1.16s/it]\n"
     ]
    }
   ],
   "source": [
    "A_members_metrics = aggregate_metrics(llm, tokenizer, A_members, metric_list, None, batch_size=batch_size)"
   ]
  },
  {
   "cell_type": "code",
   "execution_count": 10,
   "metadata": {},
   "outputs": [
    {
     "data": {
      "text/plain": [
       "1000"
      ]
     },
     "execution_count": 10,
     "metadata": {},
     "output_type": "execute_result"
    }
   ],
   "source": [
    "len(A_members_metrics['ppl'])"
   ]
  },
  {
   "cell_type": "code",
   "execution_count": 11,
   "metadata": {},
   "outputs": [
    {
     "name": "stderr",
     "output_type": "stream",
     "text": [
      "100%|██████████| 500/500 [09:39<00:00,  1.16s/it]\n"
     ]
    }
   ],
   "source": [
    "A_nonmembers_metrics = aggregate_metrics(llm, tokenizer, A_nonmembers, metric_list, None, batch_size=batch_size)"
   ]
  },
  {
   "cell_type": "markdown",
   "metadata": {},
   "source": [
    "# <a id='toc4_'></a>[Step 2: Learn MIA Correlations](#toc0_)\n",
    "\n",
    "In this stage, we train a linear regressor to learn the importance of weights for different MIA attacks to use for the final dataset inference procedure. "
   ]
  },
  {
   "cell_type": "code",
   "execution_count": 12,
   "metadata": {},
   "outputs": [],
   "source": [
    "import numpy as np\n",
    "import pandas as pd\n",
    "from scipy.stats import ttest_ind, chi2, norm\n",
    "import torch\n",
    "import torch.nn as nn\n",
    "from tqdm import tqdm\n",
    "from selected_features import feature_list"
   ]
  },
  {
   "cell_type": "code",
   "execution_count": 13,
   "metadata": {},
   "outputs": [],
   "source": [
    "def split_train_val(metrics):\n",
    "    keys = list(metrics.keys())\n",
    "    num_elements = len(metrics[keys[0]])\n",
    "    print (f\"Using {num_elements} elements\")\n",
    "    # select a random subset of val_metrics (50% of ids)\n",
    "    ids_train = np.random.choice(num_elements, num_elements//2, replace=False)\n",
    "    ids_val = np.array([i for i in range(num_elements) if i not in ids_train])\n",
    "    new_metrics_train = {}\n",
    "    new_metrics_val = {}\n",
    "    for key in keys:\n",
    "        new_metrics_train[key] = np.array(metrics[key])[ids_train]\n",
    "        new_metrics_val[key] = np.array(metrics[key])[ids_val]\n",
    "    return new_metrics_train, new_metrics_val\n",
    "\n",
    "def remove_outliers(metrics, remove_frac=0.05, outliers = \"zero\"):\n",
    "    # Sort the array to work with ordered data\n",
    "    sorted_ids = np.argsort(metrics)\n",
    "    \n",
    "    # Calculate the number of elements to remove from each side\n",
    "    total_elements = len(metrics)\n",
    "    elements_to_remove_each_side = int(total_elements * remove_frac / 2) \n",
    "    \n",
    "    # Ensure we're not attempting to remove more elements than are present\n",
    "    if elements_to_remove_each_side * 2 > total_elements:\n",
    "        raise ValueError(\"remove_frac is too large, resulting in no elements left.\")\n",
    "    \n",
    "    # Change the removed metrics to 0.\n",
    "    lowest_ids = sorted_ids[:elements_to_remove_each_side]\n",
    "    highest_ids = sorted_ids[-elements_to_remove_each_side:]\n",
    "    all_ids = np.concatenate((lowest_ids, highest_ids))\n",
    "\n",
    "    # import pdb; pdb.set_trace()\n",
    "    \n",
    "    trimmed_metrics = np.copy(metrics)\n",
    "    \n",
    "    if outliers == \"zero\":\n",
    "        trimmed_metrics[all_ids] = 0\n",
    "    elif outliers == \"mean\" or outliers == \"mean+p-value\":\n",
    "        trimmed_metrics[all_ids] = np.mean(trimmed_metrics)\n",
    "    elif outliers == \"clip\":\n",
    "        highest_val_permissible = trimmed_metrics[highest_ids[0]]\n",
    "        lowest_val_permissible = trimmed_metrics[lowest_ids[-1]]\n",
    "        trimmed_metrics[highest_ids] =  highest_val_permissible\n",
    "        trimmed_metrics[lowest_ids] =   lowest_val_permissible\n",
    "    elif outliers == \"randomize\":\n",
    "        #this will randomize the order of metrics\n",
    "        trimmed_metrics = np.delete(trimmed_metrics, all_ids)\n",
    "    else:\n",
    "        assert outliers in [\"keep\", \"p-value\"]\n",
    "        pass\n",
    "        \n",
    "    \n",
    "    return trimmed_metrics\n",
    "\n",
    "def normalize_and_stack(train_metrics, val_metrics, normalize=\"train\"):\n",
    "    '''\n",
    "    excpects an input list of list of metrics\n",
    "    normalize val with corre\n",
    "    '''\n",
    "    new_train_metrics = []\n",
    "    new_val_metrics = []\n",
    "    for (tm, vm) in zip(train_metrics, val_metrics):\n",
    "        if normalize == \"combined\":\n",
    "            combined_m = np.concatenate((tm, vm))\n",
    "            mean_tm = np.mean(combined_m)\n",
    "            std_tm = np.std(combined_m)\n",
    "        else:\n",
    "            mean_tm = np.mean(tm)\n",
    "            std_tm = np.std(tm)\n",
    "        \n",
    "        if normalize == \"no\":\n",
    "            normalized_vm = vm\n",
    "            normalized_tm = tm\n",
    "        else:\n",
    "            #normalization should be done with respect to the train set statistics\n",
    "            normalized_vm = (vm - mean_tm) / std_tm\n",
    "            normalized_tm = (tm - mean_tm) / std_tm\n",
    "        \n",
    "        new_train_metrics.append(normalized_tm)\n",
    "        new_val_metrics.append(normalized_vm)\n",
    "\n",
    "    train_metrics = np.stack(new_train_metrics, axis=1)\n",
    "    val_metrics = np.stack(new_val_metrics, axis=1)\n",
    "    return train_metrics, val_metrics"
   ]
  },
  {
   "cell_type": "markdown",
   "metadata": {},
   "source": [
    "## <a id='toc4_1_'></a>[Step 2.1 Remove Outliers](#toc0_)\n",
    "\n",
    "Across each MIA feature value, we first modify the top 5% outliers by changing their values to the mean of the distribution. This step is crucial to prevent issues in Step 3, where the model might learn skewed correlations due to a few outlier samples. "
   ]
  },
  {
   "cell_type": "code",
   "execution_count": 14,
   "metadata": {},
   "outputs": [],
   "source": [
    "def prepare_metrics(members_metrics, nonmembers_metrics, outliers=\"clip\", return_tensors=False):\n",
    "    keys = list(members_metrics.keys())\n",
    "    np_members_metrics = []\n",
    "    np_nonmembers_metrics = []\n",
    "    for key in keys:\n",
    "        members_metric_key = np.array(members_metrics[key])\n",
    "        nonmembers_metric_key = np.array(nonmembers_metrics[key])\n",
    "        \n",
    "        if outliers is not None:\n",
    "            # remove the top 2.5% and bottom 2.5% of the data\n",
    "            members_metric_key = remove_outliers(members_metric_key, remove_frac = 0.05, outliers = outliers)\n",
    "            nonmembers_metric_key = remove_outliers(nonmembers_metric_key, remove_frac = 0.05, outliers = outliers)\n",
    "\n",
    "        np_members_metrics.append(members_metric_key)\n",
    "        np_nonmembers_metrics.append(nonmembers_metric_key)\n",
    "\n",
    "    # concatenate the train and val metrics by stacking them\n",
    "    np_members_metrics, np_nonmembers_metrics = normalize_and_stack(np_members_metrics, np_nonmembers_metrics)\n",
    "    if return_tensors:\n",
    "        np_members_metrics = torch.tensor(np_members_metrics, dtype=torch.float32)\n",
    "        np_nonmembers_metrics = torch.tensor(np_nonmembers_metrics, dtype=torch.float32)\n",
    "\n",
    "    return np_members_metrics, np_nonmembers_metrics"
   ]
  },
  {
   "cell_type": "code",
   "execution_count": 15,
   "metadata": {},
   "outputs": [
    {
     "name": "stdout",
     "output_type": "stream",
     "text": [
      "(1000, 16)\n",
      "(999, 16)\n"
     ]
    }
   ],
   "source": [
    "train_metrics, val_metrics  = prepare_metrics(A_members_metrics, A_nonmembers_metrics, outliers=\"clip\")\n",
    "\n",
    "print(train_metrics.shape)\n",
    "print(val_metrics.shape)"
   ]
  },
  {
   "cell_type": "code",
   "execution_count": 16,
   "metadata": {},
   "outputs": [
    {
     "name": "stderr",
     "output_type": "stream",
     "text": [
      "huggingface/tokenizers: The current process just got forked, after parallelism has already been used. Disabling parallelism to avoid deadlocks...\n",
      "To disable this warning, you can either:\n",
      "\t- Avoid using `tokenizers` before the fork if possible\n",
      "\t- Explicitly set the environment variable TOKENIZERS_PARALLELISM=(true | false)\n"
     ]
    }
   ],
   "source": [
    "# aux functions about MIA classifier\n",
    "\n",
    "def get_dataset_splits(_train_metrics, _val_metrics, num_samples):\n",
    "    # get the train and val sets\n",
    "    for_train_train_metrics = _train_metrics[:num_samples]\n",
    "    for_train_val_metrics = _val_metrics[:num_samples]\n",
    "    for_val_train_metrics = _train_metrics[num_samples:]\n",
    "    for_val_val_metrics = _val_metrics[num_samples:]\n",
    "\n",
    "\n",
    "    # create the train and val sets\n",
    "    train_x = np.concatenate((for_train_train_metrics, for_train_val_metrics), axis=0)\n",
    "    train_y = np.concatenate((-1*np.zeros(for_train_train_metrics.shape[0]), np.ones(for_train_val_metrics.shape[0])))\n",
    "    val_x = np.concatenate((for_val_train_metrics, for_val_val_metrics), axis=0)\n",
    "    val_y = np.concatenate((-1*np.zeros(for_val_train_metrics.shape[0]), np.ones(for_val_val_metrics.shape[0])))\n",
    "    \n",
    "    # return tensors\n",
    "    train_x = torch.tensor(train_x, dtype=torch.float32)\n",
    "    train_y = torch.tensor(train_y, dtype=torch.float32)\n",
    "    val_x = torch.tensor(val_x, dtype=torch.float32)\n",
    "    val_y = torch.tensor(val_y, dtype=torch.float32)\n",
    "    \n",
    "    return (train_x, train_y), (val_x, val_y)\n",
    "\n",
    "def train_model(inputs, y, num_epochs=10000):\n",
    "    num_features = inputs.shape[1]\n",
    "    model = get_model(num_features)\n",
    "        \n",
    "    criterion = nn.BCEWithLogitsLoss()  # Binary Cross Entropy Loss for binary classification\n",
    "    optimizer = torch.optim.Adam(model.parameters(), lr=0.01)\n",
    "    \n",
    "    # Convert y to float tensor for BCEWithLogitsLoss\n",
    "    y_float = y.float()\n",
    "\n",
    "    with tqdm(range(num_epochs)) as pbar:\n",
    "        for epoch in pbar:\n",
    "            optimizer.zero_grad()\n",
    "            outputs = model(inputs).squeeze()  # Squeeze the output to remove singleton dimension\n",
    "            loss = criterion(outputs, y_float)\n",
    "            loss.backward()\n",
    "            optimizer.step()\n",
    "            pbar.set_description('loss {}'.format(loss.item()))\n",
    "    return model\n",
    "\n",
    "def get_model(num_features, linear = True):\n",
    "    if linear:\n",
    "        model = nn.Linear(num_features, 1)\n",
    "    else:\n",
    "        model = nn.Sequential(\n",
    "            nn.Linear(num_features, 10),\n",
    "            nn.ReLU(),\n",
    "            nn.Linear(10, 1)  # Single output neuron\n",
    "        )\n",
    "    return model\n",
    "\n",
    "def get_predictions(model, val, y):\n",
    "    with torch.no_grad():\n",
    "        preds = model(val).detach().squeeze()\n",
    "    criterion = nn.BCEWithLogitsLoss()\n",
    "    loss = criterion(preds, y.float())\n",
    "    return preds.numpy(), loss.item()\n",
    "\n",
    "from sklearn.metrics import roc_curve, auc\n",
    "import matplotlib.pyplot as plt\n",
    "\n",
    "def plot_roc_curve(model, val, y):\n",
    "    # get auc and plot roc curve\n",
    "    from sklearn.metrics import roc_auc_score\n",
    "    preds, _ = get_predictions(model, val, y)\n",
    "    auc_score = roc_auc_score(y, preds)\n",
    "    \n",
    "    # Compute ROC curve\n",
    "    fpr, tpr, thresholds = roc_curve(y, preds)\n",
    "    \n",
    "    # Compute AUC\n",
    "    roc_auc = auc(fpr, tpr)\n",
    "    \n",
    "    # Plot ROC curve\n",
    "    plt.figure()\n",
    "    plt.plot(fpr, tpr, color='darkorange', lw=2, label='ROC curve (area = %0.2f)' % roc_auc)\n",
    "    plt.plot([0, 1], [0, 1], color='navy', lw=2, linestyle='--')\n",
    "    plt.xlim([0.0, 1.0])\n",
    "    plt.ylim([0.0, 1.05])\n",
    "    plt.xlabel('False Positive Rate')\n",
    "    plt.ylabel('True Positive Rate')\n",
    "    plt.title('Receiver Operating Characteristic')\n",
    "    plt.legend(loc=\"lower right\")\n",
    "    plt.show()\n",
    "    \n",
    "    return auc_score"
   ]
  },
  {
   "cell_type": "markdown",
   "metadata": {},
   "source": [
    "## <a id='toc4_2_'></a>[Step 2.2: Learn the weights of each feature](#toc0_)\n",
    "\n",
    "We then pass the data through a linear regression model to learn weights for each feature.\n",
    "\n",
    "\n",
    "⚠️ **Members are classified as 0, while non-members as 1.**"
   ]
  },
  {
   "cell_type": "code",
   "execution_count": 17,
   "metadata": {},
   "outputs": [],
   "source": [
    "# aux functions about p-values\n",
    "list_number_samples = [2, 5, 10, 20, 50, 100, 150, 200, 300, 400, 500, 600, 700, 800, 900, 1000]\n",
    "\n",
    "def get_p_value_list(heldout_train, heldout_val, list_number_samples):\n",
    "    # list_number_samples is used to see how the p-values changes across different number of samples\n",
    "    p_value_list = []\n",
    "    for num_samples in list_number_samples:\n",
    "        heldout_train_curr = heldout_train[:num_samples]\n",
    "        heldout_val_curr = heldout_val[:num_samples]\n",
    "        t, p_value = ttest_ind(heldout_train_curr, heldout_val_curr, alternative='less')\n",
    "        p_value_list.append(p_value)\n",
    "    return p_value_list\n",
    "    \n",
    "    \n",
    "\n",
    "def split_train_val(metrics):\n",
    "    keys = list(metrics.keys())\n",
    "    num_elements = len(metrics[keys[0]])\n",
    "    print (f\"Using {num_elements} elements\")\n",
    "    # select a random subset of val_metrics (50% of ids)\n",
    "    ids_train = np.random.choice(num_elements, num_elements//2, replace=False)\n",
    "    ids_val = np.array([i for i in range(num_elements) if i not in ids_train])\n",
    "    new_metrics_train = {}\n",
    "    new_metrics_val = {}\n",
    "    for key in keys:\n",
    "        new_metrics_train[key] = np.array(metrics[key])[ids_train]\n",
    "        new_metrics_val[key] = np.array(metrics[key])[ids_val]\n",
    "    return new_metrics_train, new_metrics_val"
   ]
  },
  {
   "cell_type": "code",
   "execution_count": 18,
   "metadata": {},
   "outputs": [
    {
     "name": "stderr",
     "output_type": "stream",
     "text": [
      "loss 0.6681151986122131: 100%|██████████| 1000/1000 [00:01<00:00, 659.06it/s]\n"
     ]
    }
   ],
   "source": [
    "num_samples = 250 # How many samples to use for training and validation?\n",
    "\n",
    "np.random.shuffle(train_metrics)\n",
    "np.random.shuffle(val_metrics)\n",
    "\n",
    "# train a model by creating a train set and a held out set\n",
    "(train_x, train_y), (val_x, val_y) = get_dataset_splits(train_metrics, val_metrics, num_samples)\n",
    "\n",
    "model = train_model(train_x, train_y, num_epochs = 1000)\n",
    "\n",
    "# using the model weights, get importance of each feature, and save to csv\n",
    "weights = model.weight.data.squeeze().tolist() \n",
    "features = list(A_members_metrics.keys())\n",
    "feature_importance = {feature: weight for feature, weight in zip(features, weights)}\n",
    "df = pd.DataFrame(list(feature_importance.items()), columns=['Feature', 'Importance'])"
   ]
  },
  {
   "cell_type": "code",
   "execution_count": 19,
   "metadata": {},
   "outputs": [
    {
     "data": {
      "text/html": [
       "<div>\n",
       "<style scoped>\n",
       "    .dataframe tbody tr th:only-of-type {\n",
       "        vertical-align: middle;\n",
       "    }\n",
       "\n",
       "    .dataframe tbody tr th {\n",
       "        vertical-align: top;\n",
       "    }\n",
       "\n",
       "    .dataframe thead th {\n",
       "        text-align: right;\n",
       "    }\n",
       "</style>\n",
       "<table border=\"1\" class=\"dataframe\">\n",
       "  <thead>\n",
       "    <tr style=\"text-align: right;\">\n",
       "      <th></th>\n",
       "      <th>Feature</th>\n",
       "      <th>Importance</th>\n",
       "    </tr>\n",
       "  </thead>\n",
       "  <tbody>\n",
       "    <tr>\n",
       "      <th>0</th>\n",
       "      <td>ppl</td>\n",
       "      <td>0.187106</td>\n",
       "    </tr>\n",
       "    <tr>\n",
       "      <th>1</th>\n",
       "      <td>k_min_probs_0.05</td>\n",
       "      <td>0.051939</td>\n",
       "    </tr>\n",
       "    <tr>\n",
       "      <th>2</th>\n",
       "      <td>k_min_probs_0.1</td>\n",
       "      <td>-0.513615</td>\n",
       "    </tr>\n",
       "    <tr>\n",
       "      <th>3</th>\n",
       "      <td>k_min_probs_0.2</td>\n",
       "      <td>1.180070</td>\n",
       "    </tr>\n",
       "    <tr>\n",
       "      <th>4</th>\n",
       "      <td>k_min_probs_0.3</td>\n",
       "      <td>-1.855523</td>\n",
       "    </tr>\n",
       "    <tr>\n",
       "      <th>5</th>\n",
       "      <td>k_min_probs_0.4</td>\n",
       "      <td>1.458794</td>\n",
       "    </tr>\n",
       "    <tr>\n",
       "      <th>6</th>\n",
       "      <td>k_min_probs_0.5</td>\n",
       "      <td>-0.619759</td>\n",
       "    </tr>\n",
       "    <tr>\n",
       "      <th>7</th>\n",
       "      <td>k_min_probs_0.6</td>\n",
       "      <td>0.117170</td>\n",
       "    </tr>\n",
       "    <tr>\n",
       "      <th>8</th>\n",
       "      <td>k_max_probs_0.05</td>\n",
       "      <td>-0.679361</td>\n",
       "    </tr>\n",
       "    <tr>\n",
       "      <th>9</th>\n",
       "      <td>k_max_probs_0.1</td>\n",
       "      <td>1.334020</td>\n",
       "    </tr>\n",
       "    <tr>\n",
       "      <th>10</th>\n",
       "      <td>k_max_probs_0.2</td>\n",
       "      <td>0.610850</td>\n",
       "    </tr>\n",
       "    <tr>\n",
       "      <th>11</th>\n",
       "      <td>k_max_probs_0.3</td>\n",
       "      <td>-2.398481</td>\n",
       "    </tr>\n",
       "    <tr>\n",
       "      <th>12</th>\n",
       "      <td>k_max_probs_0.4</td>\n",
       "      <td>1.521971</td>\n",
       "    </tr>\n",
       "    <tr>\n",
       "      <th>13</th>\n",
       "      <td>k_max_probs_0.5</td>\n",
       "      <td>2.084856</td>\n",
       "    </tr>\n",
       "    <tr>\n",
       "      <th>14</th>\n",
       "      <td>k_max_probs_0.6</td>\n",
       "      <td>-2.399661</td>\n",
       "    </tr>\n",
       "    <tr>\n",
       "      <th>15</th>\n",
       "      <td>zlib_ratio</td>\n",
       "      <td>0.112112</td>\n",
       "    </tr>\n",
       "  </tbody>\n",
       "</table>\n",
       "</div>"
      ],
      "text/plain": [
       "             Feature  Importance\n",
       "0                ppl    0.187106\n",
       "1   k_min_probs_0.05    0.051939\n",
       "2    k_min_probs_0.1   -0.513615\n",
       "3    k_min_probs_0.2    1.180070\n",
       "4    k_min_probs_0.3   -1.855523\n",
       "5    k_min_probs_0.4    1.458794\n",
       "6    k_min_probs_0.5   -0.619759\n",
       "7    k_min_probs_0.6    0.117170\n",
       "8   k_max_probs_0.05   -0.679361\n",
       "9    k_max_probs_0.1    1.334020\n",
       "10   k_max_probs_0.2    0.610850\n",
       "11   k_max_probs_0.3   -2.398481\n",
       "12   k_max_probs_0.4    1.521971\n",
       "13   k_max_probs_0.5    2.084856\n",
       "14   k_max_probs_0.6   -2.399661\n",
       "15        zlib_ratio    0.112112"
      ]
     },
     "execution_count": 19,
     "metadata": {},
     "output_type": "execute_result"
    }
   ],
   "source": [
    "df"
   ]
  },
  {
   "cell_type": "code",
   "execution_count": 20,
   "metadata": {},
   "outputs": [
    {
     "data": {
      "image/png": "[encoded data removed]",
      "text/plain": [
       "<Figure size 640x480 with 1 Axes>"
      ]
     },
     "metadata": {},
     "output_type": "display_data"
    }
   ],
   "source": [
    "auc = plot_roc_curve(model, val_x, val_y)"
   ]
  },
  {
   "cell_type": "markdown",
   "metadata": {},
   "source": [
    "# <a id='toc5_'></a>[Step 3: Dataset Inference](#toc0_)\n",
    "\n",
    "⚠️ **Remember: Members are classified as 0, while non-members as 1.**"
   ]
  },
  {
   "cell_type": "code",
   "execution_count": 21,
   "metadata": {},
   "outputs": [
    {
     "name": "stderr",
     "output_type": "stream",
     "text": [
      "100%|██████████| 500/500 [09:41<00:00,  1.16s/it]\n",
      "100%|██████████| 500/500 [09:40<00:00,  1.16s/it]\n"
     ]
    }
   ],
   "source": [
    "B_members_metrics = aggregate_metrics(llm, tokenizer, B_members, metric_list, None, batch_size=batch_size)\n",
    "B_nonmembers_metrics = aggregate_metrics(llm, tokenizer, B_nonmembers, metric_list, None, batch_size=batch_size)"
   ]
  },
  {
   "cell_type": "code",
   "execution_count": 22,
   "metadata": {},
   "outputs": [
    {
     "name": "stdout",
     "output_type": "stream",
     "text": [
      "The null hypothesis is that the B_members scores are larger or equal than B_nonmembers.\n",
      "The alternative hypothesis is that B_members (0) are lower than B_nonmembers (1) . The p-value is 0.00331255002904568\n"
     ]
    }
   ],
   "source": [
    "B_members_metrics_tensor, B_nonmembers_metrics_ternsor = prepare_metrics(B_members_metrics, B_nonmembers_metrics, outliers=None, return_tensors=True)\n",
    "B_members_preds, _ = get_predictions(model, B_members_metrics_tensor, torch.tensor([0]*B_members_metrics_tensor.shape[0]))\n",
    "B_nonmembers_preds, _ = get_predictions(model, B_nonmembers_metrics_ternsor, torch.tensor([1]*B_nonmembers_metrics_ternsor.shape[0]))\n",
    "\n",
    "p_value_list = get_p_value_list(B_members_preds, B_nonmembers_preds, list_number_samples=[1000])\n",
    "\n",
    "print(f\"The null hypothesis is that the B_members scores are larger or equal than B_nonmembers.\\nThe alternative hypothesis is that B_members (0) are lower than B_nonmembers (1) . The p-value is {p_value_list[-1]}\")"
   ]
  },
  {
   "cell_type": "code",
   "execution_count": null,
   "metadata": {},
   "outputs": [],
   "source": []
  }
 ],
 "metadata": {
  "kernelspec": {
   "display_name": "Python 3",
   "language": "python",
   "name": "python3"
  },
  "language_info": {
   "codemirror_mode": {
    "name": "ipython",
    "version": 3
   },
   "file_extension": ".py",
   "mimetype": "text/x-python",
   "name": "python",
   "nbconvert_exporter": "python",
   "pygments_lexer": "ipython3",
   "version": "3.8.10"
  }
 },
 "nbformat": 4,
 "nbformat_minor": 2
}
